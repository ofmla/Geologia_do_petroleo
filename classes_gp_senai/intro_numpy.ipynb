{
 "cells": [
  {
   "cell_type": "markdown",
   "id": "blocked-exemption",
   "metadata": {},
   "source": [
    "# Instruções\n",
    "\n",
    "Esse documento é um [Jupyter notebook](http://jupyter.org/), um documento interativo que mistura texto (como esse), código (como abaixo), e o resultado de executar o código (números, texto, figuras, videos, etc).\n",
    "\n",
    "O notebook te fornecerá exemplos interativos que trabalham o tema abordado.\n",
    "\n",
    "As células com números ao lado, como `In [1]:`, são código [Python](https://www.python.org/). Algumas dessas células não produzem resultado e servem de preparação para os exemplos interativos. Outras, produzem gráficos interativos. **Você deve executar todas as células, uma de cada vez**, mesmo as que não produzem gráficos.\n",
    "\n",
    "**Para executar uma célula**, clique em cima dela e aperte `SHIFT+ENTER` ou presione o botão de *Run* (<button class='fa fa-play icon-play btn btn-xs btn-default'></button>) na barra de ferramentas acima.  O foco (contorno verde ou cinza em torno da célula) deverá passar para a célula abaixo. Para rodá-la, aperte `SHIFT+ENTER` novamente e assim por diante. Você pode executar células de texto que não acontecerá nada."
   ]
  },
  {
   "cell_type": "markdown",
   "id": "strategic-history",
   "metadata": {},
   "source": [
    "# Por que usar Jupyter Notebook? \n",
    "Veja o artigo [Interactive notebooks: Sharing the code](http://www.nature.com/polopoly_fs/1.16261!/menu/main/topColumns/topLeftColumn/pdf/515151a.pdf) da revista nature"
   ]
  },
  {
   "cell_type": "markdown",
   "id": "dimensional-arrest",
   "metadata": {},
   "source": [
    "#### Autor:\n",
    "* Dr. Oscar Fabian Mojica Ladino ([@ofmla](https://github.com/ofmla))"
   ]
  },
  {
   "cell_type": "markdown",
   "id": "explicit-sleep",
   "metadata": {},
   "source": [
    "# Python\n",
    "\n",
    "Python é uma linguagem de programação de alto nível, dinâmica, interpretada, modular, multiplataforma e orientada a objetos. \n",
    "\n",
    "Objetivo geral: análise de dados, desenvolvimento web, GUIs, sistemas em tempo real, etc.\n",
    "\n",
    "Atualmente a linguagem de programação que mais cresce.\n",
    "\n",
    "Em desenvolvimento ativo: Python 3.9 lançado em Outubro de 2020\n",
    "\n",
    "- Fácil de começar\n",
    "    - Maior produtividade no desenvolvimento, especialmente no início do projeto\n",
    "    - Da ideia ao código funcional em pouco tempo\n",
    "    - Ótimo para testar ideias e experimentos rápidos\n",
    "- Biblioteca padrão abrangente: coleções, algoritmos, I/O ...\n",
    "    - Python foi projetado para ser uma linguagem pequena com uma grande biblioteca padrão\n",
    "- Ecossistema de bibliotecas incrível\n",
    "    - Computação numérica e científica: numpy, scipy, sympy, xarray ...\n",
    "    - Visualização: matplotlib, plotly, bokeh ...\n",
    "    - Tabelas e séries temporais: pandas\n",
    "    - _Machine Learning_: scikit-learn, tensorflow, keras, pytorch\n",
    "- Gerenciamento de pacote padrão\n",
    "    - Extremamente fácil de configurar o ambiente de desenvolvimento e instalar pacotes"
   ]
  },
  {
   "cell_type": "markdown",
   "id": "suited-faith",
   "metadata": {},
   "source": [
    "Python é uma linguagem de sintaxe relativamente simples e de fácil compreensão que tem sido cada vez mais usada por engenheiros e cientistas. Python oferece uma gama completa de recursos de linguagem de programação e há uma vasta quantidade de pacotes para cálculos científicos e de engenharia. Existem inumeros recursos na internet onde você pode ir para obter mais informações sobre programação em Python, p.ex. [ Software-Carpentry Lessons](https://software-carpentry.org/lessons/)"
   ]
  },
  {
   "cell_type": "markdown",
   "id": "southeast-custom",
   "metadata": {},
   "source": [
    "## Numpy\n",
    "\n",
    "[Numpy](https://numpy.org/) é a biblioteca central para computação científica em Python. A ideia fundamental do NumPy é o suporte a _arrays_ multidimensionais ferramentas para trabalhar com esses _arrays_.\n"
   ]
  },
  {
   "cell_type": "markdown",
   "id": "biblical-relative",
   "metadata": {},
   "source": [
    "## _Setup_\n",
    "\n",
    "Rode as células abaixo para carregar os módulos necessários para essa prática."
   ]
  },
  {
   "cell_type": "code",
   "execution_count": 1,
   "id": "straight-straight",
   "metadata": {},
   "outputs": [
    {
     "name": "stdout",
     "output_type": "stream",
     "text": [
      "3.9.1 (default, Dec 11 2020, 14:32:07) \n",
      "[GCC 7.3.0]\n"
     ]
    }
   ],
   "source": [
    "import sys\n",
    "import numpy as np\n",
    "import matplotlib.pyplot as plt\n",
    "print(sys.version)\n",
    "np.__version__\n",
    "%matplotlib inline"
   ]
  },
  {
   "cell_type": "markdown",
   "id": "recovered-eclipse",
   "metadata": {},
   "source": [
    "### _Arrays_\n",
    "\n",
    "Um numpy _array_ é uma grade de valores, todos do mesmo tipo, e é indexado por uma tupla de inteiros não negativos. O número de dimensões é o _rank_ da matriz; a forma do _array_ é uma tupla de inteiros fornecendo o tamanho da matriz ao longo de cada dimensão.\n",
    "\n",
    "Podemos inicializar numpy _arrays_ a partir de listas Python aninhadas e acessar elementos usando colchetes:"
   ]
  },
  {
   "cell_type": "code",
   "execution_count": 2,
   "id": "marine-version",
   "metadata": {},
   "outputs": [
    {
     "name": "stdout",
     "output_type": "stream",
     "text": [
      "<class 'numpy.ndarray'>\n",
      "(3,)\n",
      "1 2 3\n",
      "[5 2 3]\n",
      "(2, 3)\n",
      "1 2 4\n"
     ]
    }
   ],
   "source": [
    "a = np.array([1, 2, 3])   # Cria um array de rank 1 \n",
    "print(type(a))            # Printa \"<class 'numpy.ndarray'>\"\n",
    "print(a.shape)            # Printa \"(3,)\"\n",
    "print(a[0], a[1], a[2])   # Printa \"1 2 3\"\n",
    "a[0] = 5                  # Muda um elemento do array\n",
    "print(a)                  # Printa \"[5, 2, 3]\"\n",
    "\n",
    "b = np.array([[1,2,3],[4,5,6]])    # Cria um array de rank 2 \n",
    "print(b.shape)                     # Printa \"(2, 3)\"\n",
    "print(b[0, 0], b[0, 1], b[1, 0])   # Printa \"1 2 4\""
   ]
  },
  {
   "cell_type": "markdown",
   "id": "treated-humidity",
   "metadata": {},
   "source": [
    "O Numpy também oferece muitas funções para criar _arrays_:"
   ]
  },
  {
   "cell_type": "code",
   "execution_count": 3,
   "id": "spread-margin",
   "metadata": {},
   "outputs": [
    {
     "name": "stdout",
     "output_type": "stream",
     "text": [
      "[[0. 0.]\n",
      " [0. 0.]]\n",
      "[[1. 1.]]\n",
      "[[7 7]\n",
      " [7 7]]\n",
      "[[1. 0.]\n",
      " [0. 1.]]\n",
      "[[0.35419992 0.69303837]\n",
      " [0.11086866 0.49263145]]\n"
     ]
    }
   ],
   "source": [
    "import numpy as np\n",
    "\n",
    "a = np.zeros((2,2))   # Cria um array zerado\n",
    "print(a)              # Prints \"[[ 0.  0.]\n",
    "                      #          [ 0.  0.]]\"\n",
    "\n",
    "b = np.ones((1,2))    # Cria um array com todos os elemntos iguais a 1\n",
    "print(b)              # Prints \"[[ 1.  1.]]\"\n",
    "\n",
    "c = np.full((2,2), 7)  # Cria um array com todos os elementos sendo um valor constate\n",
    "print(c)               # Prints \"[[ 7.  7.]\n",
    "                       #          [ 7.  7.]]\"\n",
    "\n",
    "d = np.eye(2)         # Cria uma matriz identidade 2x2\n",
    "print(d)              # Prints \"[[ 1.  0.]\n",
    "                      #          [ 0.  1.]]\"\n",
    "\n",
    "e = np.random.random((2,2))  # Cria um array preenchido com valores aleatorios\n",
    "print(e)                     "
   ]
  },
  {
   "cell_type": "markdown",
   "id": "interpreted-focus",
   "metadata": {},
   "source": [
    "## _Slicing arrays_\n",
    "\n",
    "__Fatiar__: _Arrays_ multidimensionais podem ser fatiados. "
   ]
  },
  {
   "cell_type": "code",
   "execution_count": 4,
   "id": "advance-track",
   "metadata": {},
   "outputs": [
    {
     "name": "stdout",
     "output_type": "stream",
     "text": [
      "2\n",
      "77\n"
     ]
    }
   ],
   "source": [
    "# Cria o seguinte array de rank 2 e shape (3, 4)\n",
    "# [[ 1  2  3  4]\n",
    "#  [ 5  6  7  8]\n",
    "#  [ 9 10 11 12]]\n",
    "a = np.array([[1,2,3,4], [5,6,7,8], [9,10,11,12]])\n",
    "\n",
    "# Use o fatiamento para obter um subarray consistendo das primeiras 2 filas\n",
    "# e colunas 1 e 2; b fica da seguinte forma com shape (2, 2):\n",
    "# [[2 3]\n",
    "#  [6 7]]\n",
    "b = a[:2, 1:3]\n",
    "\n",
    "# Uma fatia de um array é uma visualização dos mesmos dados, portanto, modificá-la\n",
    "# irá modificar o array original\n",
    "print(a[0, 1])   # Printa \"2\"\n",
    "b[0, 0] = 77     # b[0, 0] são os mesmos dados que a[0, 1]\n",
    "print(a[0, 1])   # Printa \"77\""
   ]
  },
  {
   "cell_type": "code",
   "execution_count": 5,
   "id": "valuable-czech",
   "metadata": {},
   "outputs": [
    {
     "name": "stdout",
     "output_type": "stream",
     "text": [
      "[5 6 7 8] (4,)\n",
      "[[5 6 7 8]] (1, 4)\n",
      "[ 2  6 10] (3,)\n",
      "[[ 2]\n",
      " [ 6]\n",
      " [10]] (3, 1)\n"
     ]
    }
   ],
   "source": [
    "# Cria de novo o array 'a' de rank 2 e shape (3, 4)\n",
    "# [[ 1  2  3  4]\n",
    "#  [ 5  6  7  8]\n",
    "#  [ 9 10 11 12]]\n",
    "a = np.array([[1,2,3,4], [5,6,7,8], [9,10,11,12]])\n",
    "\n",
    "# Duas maneiras de acessar os dados na linha do meio do array.\n",
    "# Misturar indexação de inteiro com fatias produz uma matriz de rank inferior,\n",
    "# enquanto usando apenas fatias produz uma matriz do mesm rank que o\n",
    "# array original:\n",
    "\n",
    "row_r1 = a[1, :]    # vista da segunda fila de a de rank 1\n",
    "row_r2 = a[1:2, :]  # vista da segunda fila de a de rank 2\n",
    "print(row_r1, row_r1.shape)  # Prints \"[5 6 7 8] (4,)\"\n",
    "print(row_r2, row_r2.shape)  # Prints \"[[5 6 7 8]] (1, 4)\"\n",
    "\n",
    "# A mesma distinção pode ser feita ao acessar colunas de um array\n",
    "col_r1 = a[:, 1]\n",
    "col_r2 = a[:, 1:2]\n",
    "print(col_r1, col_r1.shape)  # Prints \"[ 2  6 10] (3,)\"\n",
    "print(col_r2, col_r2.shape)  # Prints \"[[ 2]\n",
    "                             #          [ 6]\n",
    "                             #          [10]] (3, 1)\""
   ]
  },
  {
   "cell_type": "code",
   "execution_count": 6,
   "id": "apparent-surname",
   "metadata": {},
   "outputs": [
    {
     "name": "stdout",
     "output_type": "stream",
     "text": [
      "[[ 1  2  3]\n",
      " [ 4  5  6]\n",
      " [ 7  8  9]\n",
      " [10 11 12]]\n",
      "[ 1  6  7 11]\n",
      "[[11  2  3]\n",
      " [ 4  5 16]\n",
      " [17  8  9]\n",
      " [10 21 12]]\n"
     ]
    }
   ],
   "source": [
    "# Crie uma array novo a partir da qual selecionaremos os elementos\n",
    "a = np.array([[1,2,3], [4,5,6], [7,8,9], [10, 11, 12]])\n",
    "\n",
    "print(a)  # printa \"array([[ 1,  2,  3],\n",
    "          #                [ 4,  5,  6],\n",
    "          #                [ 7,  8,  9],\n",
    "          #                [10, 11, 12]])\"\n",
    "\n",
    "# Crie uma série de índices\n",
    "b = np.array([0, 2, 0, 1])\n",
    "\n",
    "# Selecione um elemento de cada linha de a usando os índices em b\n",
    "print(a[np.arange(4), b])  # Printa \"[ 1  6  7 11]\"\n",
    "\n",
    "# Transformar um elemento de cada linha de a usando os índices em b\n",
    "a[np.arange(4), b] += 10\n",
    "\n",
    "print(a)  # printa \"array([[11,  2,  3],\n",
    "          #                [ 4,  5, 16],\n",
    "          #                [17,  8,  9],\n",
    "          #                [10, 21, 12]])"
   ]
  },
  {
   "cell_type": "code",
   "execution_count": 7,
   "id": "hundred-penguin",
   "metadata": {},
   "outputs": [
    {
     "name": "stdout",
     "output_type": "stream",
     "text": [
      "[[False False]\n",
      " [ True  True]\n",
      " [ True  True]]\n",
      "[3 4 5 6]\n",
      "[3 4 5 6]\n"
     ]
    }
   ],
   "source": [
    "a = np.array([[1,2], [3, 4], [5, 6]])\n",
    "\n",
    "bool_idx = (a > 2)   # Encontra os elementos de a que são maiores que 2;\n",
    "                     # isso retorna um numpy array de Booleanos da mesmo\n",
    "                     # forma de a, onde cada elemento de bool_idx informa\n",
    "                     # se esse elemento de a é> 2\n",
    "\n",
    "print(bool_idx)      # Printa \"[[False False]\n",
    "                     #          [ True  True]\n",
    "                     #          [ True  True]]\"\n",
    "        \n",
    "# Usamos indexação do array booleano para construir um array de rank 1\n",
    "# consistindo nos elementos de a correspondente aos valores verdadeiros\n",
    "# de bool_idx\n",
    "\n",
    "# We use boolean array indexing to construct a rank 1 array\n",
    "# consisting of the elements of a corresponding to the True values\n",
    "# of bool_idx\n",
    "print(a[bool_idx])  # Printa \"[3 4 5 6]\"\n",
    "\n",
    "# Podemos fazer tudo isso em uma única declaração concisa::\n",
    "print(a[a > 2])     # Printa \"[3 4 5 6]\""
   ]
  },
  {
   "cell_type": "markdown",
   "id": "banned-yemen",
   "metadata": {},
   "source": [
    "### Matemática em _arrays_\n",
    "\n",
    "Funções matemáticas básicas operam elemento a elemento em _arrays_ e estão disponíveis como operadores e como funções no módulo numpy:"
   ]
  },
  {
   "cell_type": "code",
   "execution_count": 8,
   "id": "falling-fisher",
   "metadata": {},
   "outputs": [
    {
     "name": "stdout",
     "output_type": "stream",
     "text": [
      "[[ 6.  8.]\n",
      " [10. 12.]]\n",
      "[[ 6.  8.]\n",
      " [10. 12.]]\n",
      "[[-4. -4.]\n",
      " [-4. -4.]]\n",
      "[[-4. -4.]\n",
      " [-4. -4.]]\n",
      "[[ 5. 12.]\n",
      " [21. 32.]]\n",
      "[[ 5. 12.]\n",
      " [21. 32.]]\n",
      "[[0.2        0.33333333]\n",
      " [0.42857143 0.5       ]]\n",
      "[[0.2        0.33333333]\n",
      " [0.42857143 0.5       ]]\n",
      "[[1.         1.41421356]\n",
      " [1.73205081 2.        ]]\n"
     ]
    }
   ],
   "source": [
    "x = np.array([[1,2],[3,4]], dtype=np.float64)\n",
    "y = np.array([[5,6],[7,8]], dtype=np.float64)\n",
    "\n",
    "# Soma elemento a elemento; ambos produzem o array\n",
    "# [[ 6.0  8.0]\n",
    "#  [10.0 12.0]]\n",
    "print(x + y)\n",
    "print(np.add(x, y))\n",
    "\n",
    "# Substração elemento a elemento; ambos produzem o array\n",
    "# [[-4.0 -4.0]\n",
    "#  [-4.0 -4.0]]\n",
    "print(x - y)\n",
    "print(np.subtract(x, y))\n",
    "\n",
    "# Produto elemento a elemento; ambos produzem o array\n",
    "# [[ 5.0 12.0]\n",
    "#  [21.0 32.0]]\n",
    "print(x * y)\n",
    "print(np.multiply(x, y))\n",
    "\n",
    "# Divisão elemento a elemento; ambos produzem o array\n",
    "# [[ 0.2         0.33333333]\n",
    "#  [ 0.42857143  0.5       ]]\n",
    "print(x / y)\n",
    "print(np.divide(x, y))\n",
    "\n",
    "# Raiz quadrada elemento a elemento; ambos produzem o array\n",
    "# [[ 1.          1.41421356]\n",
    "#  [ 1.73205081  2.        ]]\n",
    "print(np.sqrt(x))"
   ]
  },
  {
   "cell_type": "markdown",
   "id": "front-festival",
   "metadata": {},
   "source": [
    "A função ```dot``` é usada para calcular produtos internos de vetores, para multiplicar um vetor por uma matriz e para multiplicar matrizes. ```dot``` está disponível como uma função no módulo numpy e como um método de instância de objetos array:"
   ]
  },
  {
   "cell_type": "code",
   "execution_count": 9,
   "id": "celtic-january",
   "metadata": {},
   "outputs": [
    {
     "name": "stdout",
     "output_type": "stream",
     "text": [
      "219\n",
      "219\n",
      "[29 67]\n",
      "[29 67]\n",
      "[[19 22]\n",
      " [43 50]]\n",
      "[[19 22]\n",
      " [43 50]]\n"
     ]
    }
   ],
   "source": [
    "x = np.array([[1,2],[3,4]])\n",
    "y = np.array([[5,6],[7,8]])\n",
    "\n",
    "v = np.array([9,10])\n",
    "w = np.array([11, 12])\n",
    "\n",
    "# produto interno de vetores; ambos produzem 219\n",
    "print(v.dot(w))\n",
    "print(np.dot(v, w))\n",
    "\n",
    "# produto Matriz/vetor; ambos produzem um array de rank 1 [29 67]\n",
    "print(x.dot(v))\n",
    "print(np.dot(x, v))\n",
    "\n",
    "# produto Matrix/matrix ; ambos produzem array de rank 2\n",
    "# [[19 22]\n",
    "#  [43 50]]\n",
    "print(x.dot(y))\n",
    "print(np.dot(x, y))"
   ]
  },
  {
   "cell_type": "markdown",
   "id": "acute-plaintiff",
   "metadata": {},
   "source": [
    "O Numpy fornece muitas funções úteis para realizar cálculos em matrizes; um dos mais úteis é a ```sum```:"
   ]
  },
  {
   "cell_type": "code",
   "execution_count": 10,
   "id": "communist-warner",
   "metadata": {},
   "outputs": [
    {
     "name": "stdout",
     "output_type": "stream",
     "text": [
      "10\n",
      "[4 6]\n",
      "[3 7]\n"
     ]
    }
   ],
   "source": [
    "x = np.array([[1,2],[3,4]])\n",
    "\n",
    "print(np.sum(x))  # Computa a soma de todos os elementos; printa \"10\"\n",
    "print(np.sum(x, axis=0))  # Computa a soma de cada coluna; prints \"[4 6]\"\n",
    "print(np.sum(x, axis=1))  # Computa a soma de cada fila; prints \"[3 7]\""
   ]
  },
  {
   "cell_type": "markdown",
   "id": "opened-queensland",
   "metadata": {},
   "source": [
    "Você pode encontrar a lista completa de funções matemáticas fornecidas por numpy na [documentação](https://numpy.org/doc/stable/reference/routines.math.html)."
   ]
  },
  {
   "cell_type": "markdown",
   "id": "little-zoning",
   "metadata": {},
   "source": [
    "Além de computar funções matemáticas usando _arrays_, frequentemente precisamos mudar (_reshaping_) a forma ou manipular dados em _arrays_. O exemplo mais simples desse tipo de operação é a transposição de uma matriz; para transpor uma matriz, basta usar o atributo ```T``` de um objeto de matriz:\n"
   ]
  },
  {
   "cell_type": "code",
   "execution_count": 11,
   "id": "pregnant-southeast",
   "metadata": {},
   "outputs": [
    {
     "name": "stdout",
     "output_type": "stream",
     "text": [
      "[[1 2]\n",
      " [3 4]]\n",
      "[[1 3]\n",
      " [2 4]]\n",
      "[1 2 3]\n",
      "[1 2 3]\n"
     ]
    }
   ],
   "source": [
    "x = np.array([[1,2], [3,4]])\n",
    "print(x)    # Printa \"[[1 2]\n",
    "            #          [3 4]]\"\n",
    "print(x.T)  # Printa \"[[1 3]\n",
    "            #          [2 4]]\"\n",
    "\n",
    "# Observe que a transposição de um array de rank 1 não faz nada::\n",
    "v = np.array([1,2,3])\n",
    "print(v)    # Printa \"[1 2 3]\"\n",
    "print(v.T)  # Printa \"[1 2 3]\""
   ]
  },
  {
   "cell_type": "markdown",
   "id": "assumed-offset",
   "metadata": {},
   "source": [
    "O Numpy fornece muito mais funções para manipular _arrays_; você pode ver a lista completa na [documentação](http://docs.scipy.org/doc/numpy/reference/routines.array-manipulation.html)."
   ]
  },
  {
   "cell_type": "markdown",
   "id": "strategic-pregnancy",
   "metadata": {},
   "source": [
    "## Matplotlib"
   ]
  },
  {
   "cell_type": "code",
   "execution_count": 16,
   "id": "extended-helena",
   "metadata": {},
   "outputs": [
    {
     "data": {
      "image/png": "[encoded data removed]",
      "text/plain": [
       "<Figure size 432x288 with 1 Axes>"
      ]
     },
     "metadata": {
      "needs_background": "light"
     },
     "output_type": "display_data"
    }
   ],
   "source": [
    "X = np.linspace(-np.pi, np.pi, 256)\n",
    "C, S = np.cos(X), np.sin(X)\n",
    "\n",
    "plt.plot(X, C)\n",
    "plt.plot(X, S)\n",
    "\n",
    "plt.show()"
   ]
  },
  {
   "cell_type": "markdown",
   "id": "progressive-scheme",
   "metadata": {},
   "source": [
    "### Alterar cores e larguras de linha\n",
    "\n",
    "```\n",
    "plt.figure(figsize=(10, 6), dpi=80)\n",
    "plt.plot(X, C, color=\"blue\", linewidth=2.5, linestyle=\"-\")\n",
    "plt.plot(X, S, color=\"red\",  linewidth=2.5, linestyle=\"-\")\n",
    "```"
   ]
  },
  {
   "cell_type": "markdown",
   "id": "thirty-seven",
   "metadata": {},
   "source": [
    "### Definindo limites\n",
    "```...\n",
    "plt.xlim(X.min() * 1.1, X.max() * 1.1)\n",
    "plt.ylim(C.min() * 1.1, C.max() * 1.1)\n",
    "```"
   ]
  },
  {
   "cell_type": "markdown",
   "id": "elect-singer",
   "metadata": {},
   "source": [
    "### Definindo _ticks_\n",
    "```\n",
    "plt.xticks([-np.pi, -np.pi/2, 0, np.pi/2, np.pi])\n",
    "plt.yticks([-1, 0, +1])\n",
    "```"
   ]
  },
  {
   "cell_type": "code",
   "execution_count": 18,
   "id": "distinguished-chest",
   "metadata": {},
   "outputs": [
    {
     "data": {
      "image/png": "[encoded data removed]",
      "text/plain": [
       "<Figure size 640x480 with 1 Axes>"
      ]
     },
     "metadata": {
      "needs_background": "light"
     },
     "output_type": "display_data"
    }
   ],
   "source": [
    "# Cria uma figura 8x6 polegadas, 80 pts por polegada\n",
    "plt.figure(figsize=(8, 6), dpi=80)\n",
    "\n",
    "# Cria um novo subplot 1x1\n",
    "plt.subplot(1, 1, 1)\n",
    "\n",
    "X = np.linspace(-np.pi, np.pi, 256)\n",
    "C, S = np.cos(X), np.sin(X)\n",
    "\n",
    "# Plota cosine com uma linha azul continua de espessura 1 (pixels)\n",
    "plt.plot(X, C, color=\"blue\", linewidth=1.0, linestyle=\"-\")\n",
    "\n",
    "# Plota sine com uma linha verde continua de espessura 1 (pixels)\n",
    "plt.plot(X, S, color=\"green\", linewidth=1.0, linestyle=\"-\")\n",
    "\n",
    "# Seta os limites em x\n",
    "plt.xlim(-4.0, 4.0)\n",
    "\n",
    "# Seta os ticks em x\n",
    "plt.xticks(np.linspace(-4, 4, 9))\n",
    "\n",
    "# Seta os limites em y\n",
    "plt.ylim(-1.0, 1.0)\n",
    "\n",
    "# Seta os ticks em y\n",
    "plt.yticks(np.linspace(-1, 1, 5))\n",
    "\n",
    "# Salva a figura usando 72 pts por polegada\n",
    "# plt.savefig(\"exercise_2.png\", dpi=72)\n",
    "\n",
    "# Mostra o resultado na tela\n",
    "plt.show()"
   ]
  },
  {
   "cell_type": "code",
   "execution_count": null,
   "id": "tender-chair",
   "metadata": {},
   "outputs": [],
   "source": [
    "# Prepare o dado\n",
    "x = np.linspace(0, 10, 100)\n",
    "\n",
    "# Plote o dado\n",
    "plt.plot(x, x, label='linear')\n",
    "\n",
    "# Add a legenda\n",
    "plt.legend()\n",
    "\n",
    "# Mostre o plot\n",
    "plt.show()"
   ]
  },
  {
   "cell_type": "code",
   "execution_count": null,
   "id": "quarterly-cheese",
   "metadata": {},
   "outputs": [],
   "source": [
    "fig = plt.figure()\n",
    "ax = fig.add_subplot(111)\n",
    "ax.plot([1, 2, 3, 4], [10, 20, 25, 30], color='lightblue', linewidth=3)\n",
    "ax.scatter([0.3, 3.8, 1.2, 2.5], [11, 25, 9, 26], color='darkgreen', marker='^')\n",
    "ax.set_xlim(0.5, 4.5)\n",
    "plt.show()"
   ]
  },
  {
   "cell_type": "code",
   "execution_count": null,
   "id": "floating-blake",
   "metadata": {},
   "outputs": [],
   "source": [
    "plt.plot([1, 2, 3, 4], [10, 20, 25, 30], color='lightblue', linewidth=3)\n",
    "plt.scatter([0.3, 3.8, 1.2, 2.5], [11, 25, 9, 26], color='darkgreen', marker='^')\n",
    "plt.xlim(0.5, 4.5)\n",
    "plt.show()"
   ]
  },
  {
   "cell_type": "code",
   "execution_count": null,
   "id": "binding-loading",
   "metadata": {},
   "outputs": [],
   "source": [
    "# Inicialização do plot\n",
    "fig = plt.figure(figsize=(10,5))\n",
    "ax1 = fig.add_subplot(121)\n",
    "ax2 = fig.add_subplot(122)\n",
    "\n",
    "# ou substitua as três linhas acima pela seguinte: \n",
    "#fig, (ax1, ax2) = plt.subplots(1,2, figsize=(10,5))\n",
    "\n",
    "# Plote os dados\n",
    "ax1.bar([1,2,3],[3,4,5])\n",
    "ax2.barh([0.5,1,2.5],[0,1,2])\n",
    "\n",
    "# mostre o plot\n",
    "plt.show()"
   ]
  }
 ],
 "metadata": {
  "kernelspec": {
   "display_name": "Python 3",
   "language": "python",
   "name": "python3"
  },
  "language_info": {
   "codemirror_mode": {
    "name": "ipython",
    "version": 3
   },
   "file_extension": ".py",
   "mimetype": "text/x-python",
   "name": "python",
   "nbconvert_exporter": "python",
   "pygments_lexer": "ipython3",
   "version": "3.9.1"
  }
 },
 "nbformat": 4,
 "nbformat_minor": 5
}
