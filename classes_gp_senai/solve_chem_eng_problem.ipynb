{
 "cells": [
  {
   "cell_type": "markdown",
   "id": "blocked-exemption",
   "metadata": {},
   "source": [
    "# Instruções\n",
    "\n",
    "Esse documento é um [Jupyter notebook](http://jupyter.org/), um documento interativo que mistura texto (como esse), código (como abaixo), e o resultado de executar o código (números, texto, figuras, videos, etc).\n",
    "\n",
    "O notebook te fornecerá exemplos interativos que trabalham o tema abordado.\n",
    "\n",
    "As células com números ao lado, como `In [1]:`, são código [Python](https://www.python.org/). Algumas dessas células não produzem resultado e servem de preparação para os exemplos interativos. Outras, produzem gráficos interativos. **Você deve executar todas as células, uma de cada vez**, mesmo as que não produzem gráficos.\n",
    "\n",
    "**Para executar uma célula**, clique em cima dela e aperte `SHIFT+ENTER` ou presione o botão de *Run* (<button class='fa fa-play icon-play btn btn-xs btn-default'></button>) na barra de ferramentas acima.  O foco (contorno verde ou cinza em torno da célula) deverá passar para a célula abaixo. Para rodá-la, aperte `SHIFT+ENTER` novamente e assim por diante. Você pode executar células de texto que não acontecerá nada."
   ]
  },
  {
   "cell_type": "markdown",
   "id": "strategic-history",
   "metadata": {},
   "source": [
    "# Por que usar Jupyter Notebook? \n",
    "Veja o artigo [Interactive notebooks: Sharing the code](http://www.nature.com/polopoly_fs/1.16261!/menu/main/topColumns/topLeftColumn/pdf/515151a.pdf) da revista nature"
   ]
  },
  {
   "cell_type": "markdown",
   "id": "dimensional-arrest",
   "metadata": {},
   "source": [
    "#### Autor:\n",
    "* Dr. Oscar Fabian Mojica Ladino ([@ofmla](https://github.com/ofmla))"
   ]
  },
  {
   "cell_type": "markdown",
   "id": "biblical-relative",
   "metadata": {},
   "source": [
    "## _Setup_\n",
    "\n",
    "Rode as células abaixo para carregar os módulos necessários para essa prática."
   ]
  },
  {
   "cell_type": "code",
   "execution_count": 1,
   "id": "straight-straight",
   "metadata": {},
   "outputs": [
    {
     "name": "stdout",
     "output_type": "stream",
     "text": [
      "3.9.1 (default, Dec 11 2020, 14:32:07) \n",
      "[GCC 7.3.0]\n"
     ]
    }
   ],
   "source": [
    "import sys\n",
    "import numpy as np\n",
    "import matplotlib.pyplot as plt\n",
    "print(sys.version)\n",
    "np.__version__\n",
    "%matplotlib inline"
   ]
  },
  {
   "cell_type": "markdown",
   "id": "fitted-hunger",
   "metadata": {},
   "source": [
    "### Criação de suas próprias funções\n",
    "Podemos combinar operações para avaliar equações complexas. Considere o valor da equação ```x^3 - log(x)``` para o valor ```x = 3```"
   ]
  },
  {
   "cell_type": "code",
   "execution_count": 2,
   "id": "executed-mining",
   "metadata": {},
   "outputs": [
    {
     "name": "stdout",
     "output_type": "stream",
     "text": [
      "25.90138771133189\n"
     ]
    }
   ],
   "source": [
    "x = 3\n",
    "print(x**3 - np.log(x))"
   ]
  },
  {
   "cell_type": "markdown",
   "id": "mechanical-bride",
   "metadata": {},
   "source": [
    "Seria tedioso digitar isso todas as vezes. A seguir, aprendemos como expressar esta equação como uma nova função, que podemos chamar com diferentes\n",
    "valores"
   ]
  },
  {
   "cell_type": "markdown",
   "id": "bearing-consolidation",
   "metadata": {},
   "source": [
    "As funções em Python são definidas usando a seguinte convenção:\n",
    "```\n",
    "def function (arg1, arg2, ...):\n",
    "    statements\n",
    "    return return_values\n",
    "```\n",
    "onde ```arg1, arg2, ...``` são os argumentos da função. Os argumentos podem ser quaisquer objetos Python e até outras funções. Eles podem receber valores padrão, o que torna o uso do argumento opcional."
   ]
  },
  {
   "cell_type": "code",
   "execution_count": 3,
   "id": "progressive-validity",
   "metadata": {},
   "outputs": [
    {
     "name": "stdout",
     "output_type": "stream",
     "text": [
      "25.90138771133189\n",
      "131.0217594602697\n"
     ]
    }
   ],
   "source": [
    "def f(x):\n",
    "    return x**3 - np.log(x)\n",
    "\n",
    "print(f(3))\n",
    "print(f(5.1))"
   ]
  },
  {
   "cell_type": "code",
   "execution_count": 4,
   "id": "spiritual-rainbow",
   "metadata": {},
   "outputs": [
    {
     "name": "stdout",
     "output_type": "stream",
     "text": [
      "14\n"
     ]
    }
   ],
   "source": [
    "def func(x, y):\n",
    "    \"return product of x and y\"\n",
    "    return x * y\n",
    "\n",
    "print(func(2,7))\n",
    "#print(func([2,3],[4,5]))"
   ]
  },
  {
   "cell_type": "markdown",
   "id": "historic-dubai",
   "metadata": {},
   "source": [
    "Observe que a função não é vetorizada automaticamente. É por isso que nós veja o erro acima. Existem algumas maneiras de fazer isso. Um é fazer um _cast_ das variáveis de entrada para objetos que suportam operações vetorizadas, como objetos ```numpy.array```."
   ]
  },
  {
   "cell_type": "code",
   "execution_count": 5,
   "id": "boring-treasurer",
   "metadata": {},
   "outputs": [
    {
     "name": "stdout",
     "output_type": "stream",
     "text": [
      "[ 6 12]\n"
     ]
    }
   ],
   "source": [
    "print(func(np.array([2, 3]), np.array([3, 4])))"
   ]
  },
  {
   "cell_type": "markdown",
   "id": "recovered-eclipse",
   "metadata": {},
   "source": [
    "### Descrição do Problema:\n",
    "\n",
    "Ajustaremos os dados de pressão de vapor do benzeno a um polinômio e, em seguida, realizaremos uma regressão linear dos dados usando a equação de Clausius Claperyon e a equação de Antoine. Ambos são equações correlacionadas que foram usadas para ajustar os dados de pressão de vapor para vários compostos. Este é o Problema 3 no [conjunto de problemas ASEE 1997](http://www.polymath-software.com/ASEE/Tenprobs.pdf)"
   ]
  },
  {
   "cell_type": "markdown",
   "id": "absolute-daughter",
   "metadata": {},
   "source": [
    "### Dados e equações:\n",
    "\n",
    "#### Dados de pressão de vapor para benzeno\n",
    " \n",
    "| Temperatura, T (C) | Presão, P (mm Hg) |\n",
    "|:------------------:|:-----------------:|\n",
    "|-36.7 | 1 |\n",
    "|-19.6 | 5 |\n",
    "|-11.5 |10 | \n",
    "|-2.6 |20 |\n",
    "|+7.6 |40 |\n",
    "|15.4 |60 |\n",
    "|26.1 |100 |\n",
    "|42.2 |200 |\n",
    "|60.6 |400 |\n",
    "|80.1 |760 |\n",
    "\n",
    "#### Expressão Polinomial Geral\n",
    "\n",
    "```P(x) = a0 + a1*x + a2*x2 + a3*x3 +. . . + an*xa```\n",
    "\n",
    "```a0``` a ```an``` são os coeficientes calculados por um ajuste de mínimos quadrados de um grau selecionado ```n``` do polinômio\n",
    "\n",
    "#### Equação de Clausius Clapeyron\n",
    "\n",
    "log (P) = A + B / T\n",
    "\n",
    "```T``` = Temperatura Absoluta em graus K e ```A``` e ```B``` são parâmetros que são determinados a partir de um ajuste de mínimos quadrados dos dados transformados\n",
    "\n",
    "#### Equação de Antoine\n",
    "\n",
    "log (P) = A - B / (C + T)\n",
    "\n",
    "```T``` = Temperatura Absoluta em graus K e ```A, B``` e ```C``` são parâmetros que são determinados a partir de uma regressão não linear dos dados transformados."
   ]
  },
  {
   "cell_type": "markdown",
   "id": "magnetic-husband",
   "metadata": {},
   "source": [
    "### Solução"
   ]
  },
  {
   "cell_type": "code",
   "execution_count": 6,
   "id": "spectacular-passenger",
   "metadata": {},
   "outputs": [
    {
     "name": "stdout",
     "output_type": "stream",
     "text": [
      "[-36.7 -19.6 -11.5  -2.6   7.6  15.4  26.1  42.2  60.6  80.1] [  1.   5.  10.  20.  40.  60. 100. 200. 400. 760.]\n",
      "<class 'numpy.ndarray'> (10,) 10\n"
     ]
    }
   ],
   "source": [
    "my_csv = np.genfromtxt('./data.txt', delimiter=' ')\n",
    "temperature, pressure = my_csv.transpose()\n",
    "print(temperature, pressure)\n",
    "print(type(temperature),temperature.shape,temperature.size)"
   ]
  },
  {
   "cell_type": "code",
   "execution_count": 7,
   "id": "social-avenue",
   "metadata": {},
   "outputs": [
    {
     "data": {
      "text/plain": [
       "array([ 5.89071959, 64.40597148])"
      ]
     },
     "execution_count": 7,
     "metadata": {},
     "output_type": "execute_result"
    }
   ],
   "source": [
    "z1 = np.polyfit(temperature, pressure, 1)\n",
    "z1"
   ]
  },
  {
   "cell_type": "code",
   "execution_count": 8,
   "id": "marine-version",
   "metadata": {},
   "outputs": [
    {
     "data": {
      "text/plain": [
       "array([ 0.08615257,  2.06714795, -0.58206463])"
      ]
     },
     "execution_count": 8,
     "metadata": {},
     "output_type": "execute_result"
    }
   ],
   "source": [
    "z2 = np.polyfit(temperature, pressure, 2)\n",
    "z2"
   ]
  },
  {
   "cell_type": "code",
   "execution_count": 9,
   "id": "provincial-cookie",
   "metadata": {},
   "outputs": [
    {
     "data": {
      "text/plain": [
       "array([7.44911230e-04, 3.94480731e-02, 1.19809939e+00, 2.44593587e+01])"
      ]
     },
     "execution_count": 9,
     "metadata": {},
     "output_type": "execute_result"
    }
   ],
   "source": [
    "z3 = np.polyfit(temperature, pressure, 3)\n",
    "z3"
   ]
  },
  {
   "cell_type": "markdown",
   "id": "exotic-termination",
   "metadata": {},
   "source": [
    "É conveniente usar objetos [poly1d](https://numpy.org/doc/stable/reference/generated/numpy.poly1d.html#numpy.poly1d) para lidar com polinômios:"
   ]
  },
  {
   "cell_type": "code",
   "execution_count": 10,
   "id": "hollywood-publicity",
   "metadata": {},
   "outputs": [
    {
     "data": {
      "image/png": "[encoded data removed]",
      "text/plain": [
       "<Figure size 432x288 with 1 Axes>"
      ]
     },
     "metadata": {
      "needs_background": "light"
     },
     "output_type": "display_data"
    }
   ],
   "source": [
    "p1 = np.poly1d(z1)\n",
    "p2 = np.poly1d(z2)\n",
    "p3 = np.poly1d(z3)\n",
    "xp = np.linspace(-50.,90,100)\n",
    "plt.plot(temperature, pressure, '.', xp, p1(xp), '-', xp, p2(xp), '--', xp, p3(xp), '-.' )\n",
    "plt.show()"
   ]
  },
  {
   "cell_type": "code",
   "execution_count": 11,
   "id": "discrete-syria",
   "metadata": {},
   "outputs": [
    {
     "data": {
      "image/png": "[encoded data removed]",
      "text/plain": [
       "<Figure size 432x288 with 1 Axes>"
      ]
     },
     "metadata": {
      "needs_background": "light"
     },
     "output_type": "display_data"
    }
   ],
   "source": [
    "plt.yscale('log')\n",
    "plt.plot(temperature, pressure, '.', xp, p1(xp), '-', xp, p2(xp), '--', xp, p3(xp), '-.' )\n",
    "plt.show()"
   ]
  },
  {
   "cell_type": "markdown",
   "id": "treated-humidity",
   "metadata": {},
   "source": [
    "#### Equação de Clausius Clapeyron\n",
    "\n",
    "Agora tentemos ajustar a equação de Clausius Clapeyron (CC) aos dados."
   ]
  },
  {
   "cell_type": "markdown",
   "id": "collaborative-planet",
   "metadata": {},
   "source": [
    "A primeira etapa é transformar os dados, começando com as pressões de vapor"
   ]
  },
  {
   "cell_type": "code",
   "execution_count": 12,
   "id": "spread-margin",
   "metadata": {},
   "outputs": [
    {
     "name": "stdout",
     "output_type": "stream",
     "text": [
      "[0.         0.69897    1.         1.30103    1.60205999 1.77815125\n",
      " 2.         2.30103    2.60205999 2.88081359]\n"
     ]
    }
   ],
   "source": [
    "p = np.log10(pressure)\n",
    "print(p)"
   ]
  },
  {
   "cell_type": "markdown",
   "id": "freelance-prototype",
   "metadata": {},
   "source": [
    "e agora para as temperaturas."
   ]
  },
  {
   "cell_type": "code",
   "execution_count": 13,
   "id": "twenty-shore",
   "metadata": {},
   "outputs": [
    {
     "name": "stdout",
     "output_type": "stream",
     "text": [
      "[0.00422922 0.003944   0.0038219  0.00369617 0.00356189 0.0034656\n",
      " 0.00334169 0.00317108 0.00299625 0.00283086]\n"
     ]
    }
   ],
   "source": [
    "t = 1/(temperature+273.15)\n",
    "print(t)"
   ]
  },
  {
   "cell_type": "markdown",
   "id": "canadian-trail",
   "metadata": {},
   "source": [
    "Agora estamos prontos para ajustar os dados transformados"
   ]
  },
  {
   "cell_type": "code",
   "execution_count": 14,
   "id": "prepared-norfolk",
   "metadata": {},
   "outputs": [
    {
     "data": {
      "text/plain": [
       "array([-2035.33102614,     8.75200997])"
      ]
     },
     "execution_count": 14,
     "metadata": {},
     "output_type": "execute_result"
    }
   ],
   "source": [
    "cc = np.polyfit(t, p, 1)\n",
    "cc"
   ]
  },
  {
   "cell_type": "code",
   "execution_count": 15,
   "id": "still-highland",
   "metadata": {},
   "outputs": [],
   "source": [
    "pcc = np.poly1d(cc)\n",
    "xp = np.linspace(-50.,90,100)\n",
    "xpcc = 1/(xp+273.15)"
   ]
  },
  {
   "cell_type": "markdown",
   "id": "advisory-madison",
   "metadata": {},
   "source": [
    "Agora podemos exibir este novo resultado junto com os dados."
   ]
  },
  {
   "cell_type": "code",
   "execution_count": 16,
   "id": "strong-george",
   "metadata": {},
   "outputs": [
    {
     "data": {
      "image/png": "[encoded data removed]",
      "text/plain": [
       "<Figure size 432x288 with 1 Axes>"
      ]
     },
     "metadata": {
      "needs_background": "light"
     },
     "output_type": "display_data"
    }
   ],
   "source": [
    "plt.yscale('log')\n",
    "plt.plot(temperature, pressure, '.', xp, 10**(pcc(xpcc)), '-')\n",
    "plt.show()"
   ]
  },
  {
   "cell_type": "markdown",
   "id": "beautiful-rebound",
   "metadata": {},
   "source": [
    "A partir disso, vemos imediatamente que a forma de Clausius Clapeyron é muito superior aos ajustes polinomiais simples."
   ]
  },
  {
   "cell_type": "markdown",
   "id": "happy-shade",
   "metadata": {},
   "source": [
    "#### Equação de Antoine\n",
    "\n",
    "Outra equação popular usada para ajustar os dados de pressão de vapor é a equação de Antoine.\n"
   ]
  },
  {
   "cell_type": "markdown",
   "id": "physical-renewal",
   "metadata": {},
   "source": [
    "A equação de Antoine é convertida em uma equação linearizada.\n",
    "```\n",
    "log(P) = A - B / ( T + C )\n",
    "T.log(P) + C.log(P) = A.T + A.C - B\n",
    "log(P) = A + (A.C-B)/T - C.log(P)/T\n",
    "y = a0 + a1.x1 + a2.x2\n",
    "```"
   ]
  },
  {
   "cell_type": "markdown",
   "id": "signed-section",
   "metadata": {},
   "source": [
    "Definimos novas variáveis de temperatura e pressão como foi feito para a equação de Clausius-Clapeyron."
   ]
  },
  {
   "cell_type": "code",
   "execution_count": 17,
   "id": "southeast-investigator",
   "metadata": {},
   "outputs": [],
   "source": [
    "p = np.log10(pressure)\n",
    "t = 1/(temperature+273.15)"
   ]
  },
  {
   "cell_type": "markdown",
   "id": "electrical-plenty",
   "metadata": {},
   "source": [
    "Devemos também definir a variável combinada:"
   ]
  },
  {
   "cell_type": "code",
   "execution_count": 18,
   "id": "sunset-shirt",
   "metadata": {},
   "outputs": [],
   "source": [
    "tau = p*t"
   ]
  },
  {
   "cell_type": "markdown",
   "id": "developmental-hawaiian",
   "metadata": {},
   "source": [
    "Agora estamos prontos para ajustar os dados transformados"
   ]
  },
  {
   "cell_type": "code",
   "execution_count": 19,
   "id": "higher-drawing",
   "metadata": {},
   "outputs": [
    {
     "name": "stdout",
     "output_type": "stream",
     "text": [
      "[[0.00422922 0.        ]\n",
      " [0.003944   0.00275673]\n",
      " [0.0038219  0.0038219 ]\n",
      " [0.00369617 0.00480883]\n",
      " [0.00356189 0.00570636]\n",
      " [0.0034656  0.00616237]\n",
      " [0.00334169 0.00668338]\n",
      " [0.00317108 0.00729675]\n",
      " [0.00299625 0.00779643]\n",
      " [0.00283086 0.00815517]]\n"
     ]
    }
   ],
   "source": [
    "from sklearn import linear_model\n",
    "X= np.vstack((t, tau)).T\n",
    "print(X)"
   ]
  },
  {
   "cell_type": "code",
   "execution_count": 20,
   "id": "french-recipe",
   "metadata": {},
   "outputs": [
    {
     "data": {
      "text/plain": [
       "LinearRegression()"
      ]
     },
     "execution_count": 20,
     "metadata": {},
     "output_type": "execute_result"
    }
   ],
   "source": [
    "# with sklearn\n",
    "regr = linear_model.LinearRegression()\n",
    "regr.fit(X, p)"
   ]
  },
  {
   "cell_type": "code",
   "execution_count": 21,
   "id": "explicit-nursing",
   "metadata": {},
   "outputs": [
    {
     "name": "stdout",
     "output_type": "stream",
     "text": [
      "Intercept: \n",
      " 5.72975279621548\n",
      "Coefficients: \n",
      " [-1356.47245562   120.75481614]\n"
     ]
    }
   ],
   "source": [
    "print('Intercept: \\n', regr.intercept_)\n",
    "print('Coefficients: \\n', regr.coef_)"
   ]
  },
  {
   "cell_type": "code",
   "execution_count": 22,
   "id": "horizontal-wrapping",
   "metadata": {},
   "outputs": [
    {
     "name": "stdout",
     "output_type": "stream",
     "text": [
      "5.72975279621548 664.5772101959999 -120.75481613900617\n"
     ]
    }
   ],
   "source": [
    "a0 = regr.intercept_\n",
    "a1 = regr.intercept_*(-1*regr.coef_[1]) - regr.coef_[0]\n",
    "a2 = -1*regr.coef_[-1]\n",
    "print(a0,a1,a2)"
   ]
  },
  {
   "cell_type": "markdown",
   "id": "emotional-fields",
   "metadata": {},
   "source": [
    "Nas próximas linhas, reconstruímos a equação de Antoine em termos das variáveis originais:"
   ]
  },
  {
   "cell_type": "code",
   "execution_count": 23,
   "id": "hearing-promise",
   "metadata": {},
   "outputs": [],
   "source": [
    "xp = np.linspace(-50.,90,100)\n",
    "xpa = 1/(xp+a2+273.15)\n",
    "xpa =np.array([10**(a0-(a1*x)) for x in xpa])"
   ]
  },
  {
   "cell_type": "markdown",
   "id": "compound-harris",
   "metadata": {},
   "source": [
    "e exibimos este novo resultado junto com a equação de Clausius-Clapeyron e os dados."
   ]
  },
  {
   "cell_type": "code",
   "execution_count": 24,
   "id": "early-friendship",
   "metadata": {},
   "outputs": [
    {
     "data": {
      "image/png": "[encoded data removed]",
      "text/plain": [
       "<Figure size 432x288 with 1 Axes>"
      ]
     },
     "metadata": {
      "needs_background": "light"
     },
     "output_type": "display_data"
    }
   ],
   "source": [
    "plt.yscale('log')\n",
    "plt.plot(temperature, pressure, '.', xp, xpa, '-')\n",
    "plt.show()"
   ]
  }
 ],
 "metadata": {
  "kernelspec": {
   "display_name": "Python 3",
   "language": "python",
   "name": "python3"
  },
  "language_info": {
   "codemirror_mode": {
    "name": "ipython",
    "version": 3
   },
   "file_extension": ".py",
   "mimetype": "text/x-python",
   "name": "python",
   "nbconvert_exporter": "python",
   "pygments_lexer": "ipython3",
   "version": "3.9.1"
  }
 },
 "nbformat": 4,
 "nbformat_minor": 5
}
